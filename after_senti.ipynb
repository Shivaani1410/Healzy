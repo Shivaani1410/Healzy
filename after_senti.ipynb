{
 "cells": [
  {
   "cell_type": "code",
   "execution_count": null,
   "id": "34b2c3f6",
   "metadata": {},
   "outputs": [
    {
     "name": "stdout",
     "output_type": "stream",
     "text": [
      "Word Count: 19\n"
     ]
    }
   ],
   "source": [
    "#words count\n",
    "\n",
    "text = \"This oatmeal is not good. It's mushy, soft, I don't like it. Quaker Oats is the way to go.\"\n",
    "\n",
    "word_count = len(text.split())\n",
    "print(\"Word Count:\", word_count)\n"
   ]
  },
  {
   "cell_type": "code",
   "execution_count": 3,
   "id": "ceb944df",
   "metadata": {},
   "outputs": [
    {
     "name": "stdout",
     "output_type": "stream",
     "text": [
      "Self-reference frequency: 0.2308\n"
     ]
    }
   ],
   "source": [
    "#\"i\"/\"me\" frequency\n",
    "\n",
    "import re\n",
    "\n",
    "def get_self_reference_frequency(text):\n",
    "    # Tokenize text (split by spaces)\n",
    "    words = text.lower().split()\n",
    "    total_words = len(words)\n",
    "\n",
    "    # First-person singular pronouns\n",
    "    self_words = ['i', 'me', 'my', 'mine', \"i'm\", \"i’ve\", \"i’ll\", \"i’d\"]\n",
    "\n",
    "    # Count how many are self-referential\n",
    "    self_word_count = sum(1 for word in words if word in self_words)\n",
    "\n",
    "    # Frequency: percentage of self-referential words\n",
    "    freq = self_word_count / total_words if total_words > 0 else 0\n",
    "    return round(freq, 4)\n",
    "\n",
    "\n",
    "\n",
    "text = \"I feel tired today. Me and my thoughts are all over the place.\"\n",
    "freq = get_self_reference_frequency(text)\n",
    "print(\"Self-reference frequency:\", freq)\n",
    "\n"
   ]
  },
  {
   "cell_type": "code",
   "execution_count": null,
   "id": "c13f5df1",
   "metadata": {},
   "outputs": [],
   "source": []
  },
  {
   "cell_type": "code",
   "execution_count": null,
   "id": "fa0802c3",
   "metadata": {},
   "outputs": [],
   "source": []
  },
  {
   "cell_type": "code",
   "execution_count": null,
   "id": "504dfb10",
   "metadata": {},
   "outputs": [],
   "source": []
  },
  {
   "cell_type": "code",
   "execution_count": null,
   "id": "f92c936d",
   "metadata": {},
   "outputs": [],
   "source": []
  },
  {
   "cell_type": "code",
   "execution_count": null,
   "id": "c7d64dcd",
   "metadata": {},
   "outputs": [],
   "source": []
  },
  {
   "cell_type": "code",
   "execution_count": null,
   "id": "35e94688",
   "metadata": {},
   "outputs": [],
   "source": []
  }
 ],
 "metadata": {
  "kernelspec": {
   "display_name": "Python 3",
   "language": "python",
   "name": "python3"
  },
  "language_info": {
   "codemirror_mode": {
    "name": "ipython",
    "version": 3
   },
   "file_extension": ".py",
   "mimetype": "text/x-python",
   "name": "python",
   "nbconvert_exporter": "python",
   "pygments_lexer": "ipython3",
   "version": "3.10.16"
  }
 },
 "nbformat": 4,
 "nbformat_minor": 5
}
