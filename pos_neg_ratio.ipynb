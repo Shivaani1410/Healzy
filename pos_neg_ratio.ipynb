{
 "cells": [
  {
   "cell_type": "code",
   "execution_count": 3,
   "id": "ac13319f",
   "metadata": {},
   "outputs": [
    {
     "name": "stdout",
     "output_type": "stream",
     "text": [
      "Requirement already satisfied: NRCLex in c:\\users\\lokitha\\onedrive\\one drive\\desktop\\healzy app\\envi\\lib\\site-packages (3.0.0)\n",
      "Requirement already satisfied: textblob in c:\\users\\lokitha\\onedrive\\one drive\\desktop\\healzy app\\envi\\lib\\site-packages (from NRCLex) (0.19.0)\n",
      "Requirement already satisfied: nltk>=3.9 in c:\\users\\lokitha\\onedrive\\one drive\\desktop\\healzy app\\envi\\lib\\site-packages (from textblob->NRCLex) (3.9.1)\n",
      "Requirement already satisfied: click in c:\\users\\lokitha\\onedrive\\one drive\\desktop\\healzy app\\envi\\lib\\site-packages (from nltk>=3.9->textblob->NRCLex) (8.1.8)\n",
      "Requirement already satisfied: joblib in c:\\users\\lokitha\\onedrive\\one drive\\desktop\\healzy app\\envi\\lib\\site-packages (from nltk>=3.9->textblob->NRCLex) (1.4.2)\n",
      "Requirement already satisfied: regex>=2021.8.3 in c:\\users\\lokitha\\onedrive\\one drive\\desktop\\healzy app\\envi\\lib\\site-packages (from nltk>=3.9->textblob->NRCLex) (2024.11.6)\n",
      "Requirement already satisfied: tqdm in c:\\users\\lokitha\\onedrive\\one drive\\desktop\\healzy app\\envi\\lib\\site-packages (from nltk>=3.9->textblob->NRCLex) (4.67.1)\n",
      "Requirement already satisfied: colorama in c:\\users\\lokitha\\onedrive\\one drive\\desktop\\healzy app\\envi\\lib\\site-packages (from click->nltk>=3.9->textblob->NRCLex) (0.4.6)\n",
      "Note: you may need to restart the kernel to use updated packages.\n"
     ]
    }
   ],
   "source": [
    "%pip install NRCLex"
   ]
  },
  {
   "cell_type": "code",
   "execution_count": 4,
   "id": "50a59ccb",
   "metadata": {},
   "outputs": [
    {
     "name": "stdout",
     "output_type": "stream",
     "text": [
      "Requirement already satisfied: plotly in c:\\users\\lokitha\\onedrive\\one drive\\desktop\\healzy app\\envi\\lib\\site-packages (6.0.1)\n",
      "Requirement already satisfied: narwhals>=1.15.1 in c:\\users\\lokitha\\onedrive\\one drive\\desktop\\healzy app\\envi\\lib\\site-packages (from plotly) (1.34.0)\n",
      "Requirement already satisfied: packaging in c:\\users\\lokitha\\onedrive\\one drive\\desktop\\healzy app\\envi\\lib\\site-packages (from plotly) (24.2)\n",
      "Note: you may need to restart the kernel to use updated packages.\n"
     ]
    }
   ],
   "source": [
    "%pip install plotly"
   ]
  },
  {
   "cell_type": "code",
   "execution_count": 5,
   "id": "3d563f28",
   "metadata": {},
   "outputs": [
    {
     "name": "stdout",
     "output_type": "stream",
     "text": [
      "Requirement already satisfied: nrclex in c:\\users\\lokitha\\onedrive\\one drive\\desktop\\healzy app\\envi\\lib\\site-packages (3.0.0)\n",
      "Requirement already satisfied: pandas in c:\\users\\lokitha\\onedrive\\one drive\\desktop\\healzy app\\envi\\lib\\site-packages (2.2.3)\n",
      "Requirement already satisfied: nltk in c:\\users\\lokitha\\onedrive\\one drive\\desktop\\healzy app\\envi\\lib\\site-packages (3.9.1)\n",
      "Requirement already satisfied: matplotlib in c:\\users\\lokitha\\onedrive\\one drive\\desktop\\healzy app\\envi\\lib\\site-packages (3.10.1)\n",
      "Requirement already satisfied: seaborn in c:\\users\\lokitha\\onedrive\\one drive\\desktop\\healzy app\\envi\\lib\\site-packages (0.13.2)\n",
      "Requirement already satisfied: textblob in c:\\users\\lokitha\\onedrive\\one drive\\desktop\\healzy app\\envi\\lib\\site-packages (from nrclex) (0.19.0)\n",
      "Requirement already satisfied: numpy>=1.22.4 in c:\\users\\lokitha\\onedrive\\one drive\\desktop\\healzy app\\envi\\lib\\site-packages (from pandas) (2.2.4)\n",
      "Requirement already satisfied: python-dateutil>=2.8.2 in c:\\users\\lokitha\\onedrive\\one drive\\desktop\\healzy app\\envi\\lib\\site-packages (from pandas) (2.9.0.post0)\n",
      "Requirement already satisfied: pytz>=2020.1 in c:\\users\\lokitha\\onedrive\\one drive\\desktop\\healzy app\\envi\\lib\\site-packages (from pandas) (2025.2)\n",
      "Requirement already satisfied: tzdata>=2022.7 in c:\\users\\lokitha\\onedrive\\one drive\\desktop\\healzy app\\envi\\lib\\site-packages (from pandas) (2025.2)\n",
      "Requirement already satisfied: click in c:\\users\\lokitha\\onedrive\\one drive\\desktop\\healzy app\\envi\\lib\\site-packages (from nltk) (8.1.8)\n",
      "Requirement already satisfied: joblib in c:\\users\\lokitha\\onedrive\\one drive\\desktop\\healzy app\\envi\\lib\\site-packages (from nltk) (1.4.2)\n",
      "Requirement already satisfied: regex>=2021.8.3 in c:\\users\\lokitha\\onedrive\\one drive\\desktop\\healzy app\\envi\\lib\\site-packages (from nltk) (2024.11.6)\n",
      "Requirement already satisfied: tqdm in c:\\users\\lokitha\\onedrive\\one drive\\desktop\\healzy app\\envi\\lib\\site-packages (from nltk) (4.67.1)\n",
      "Requirement already satisfied: contourpy>=1.0.1 in c:\\users\\lokitha\\onedrive\\one drive\\desktop\\healzy app\\envi\\lib\\site-packages (from matplotlib) (1.3.1)\n",
      "Requirement already satisfied: cycler>=0.10 in c:\\users\\lokitha\\onedrive\\one drive\\desktop\\healzy app\\envi\\lib\\site-packages (from matplotlib) (0.12.1)\n",
      "Requirement already satisfied: fonttools>=4.22.0 in c:\\users\\lokitha\\onedrive\\one drive\\desktop\\healzy app\\envi\\lib\\site-packages (from matplotlib) (4.57.0)\n",
      "Requirement already satisfied: kiwisolver>=1.3.1 in c:\\users\\lokitha\\onedrive\\one drive\\desktop\\healzy app\\envi\\lib\\site-packages (from matplotlib) (1.4.8)\n",
      "Requirement already satisfied: packaging>=20.0 in c:\\users\\lokitha\\onedrive\\one drive\\desktop\\healzy app\\envi\\lib\\site-packages (from matplotlib) (24.2)\n",
      "Requirement already satisfied: pillow>=8 in c:\\users\\lokitha\\onedrive\\one drive\\desktop\\healzy app\\envi\\lib\\site-packages (from matplotlib) (11.1.0)\n",
      "Requirement already satisfied: pyparsing>=2.3.1 in c:\\users\\lokitha\\onedrive\\one drive\\desktop\\healzy app\\envi\\lib\\site-packages (from matplotlib) (3.2.3)\n",
      "Requirement already satisfied: six>=1.5 in c:\\users\\lokitha\\onedrive\\one drive\\desktop\\healzy app\\envi\\lib\\site-packages (from python-dateutil>=2.8.2->pandas) (1.17.0)\n",
      "Requirement already satisfied: colorama in c:\\users\\lokitha\\onedrive\\one drive\\desktop\\healzy app\\envi\\lib\\site-packages (from click->nltk) (0.4.6)\n",
      "Note: you may need to restart the kernel to use updated packages.\n"
     ]
    }
   ],
   "source": [
    "%pip install nrclex pandas nltk matplotlib seaborn"
   ]
  },
  {
   "cell_type": "code",
   "execution_count": 6,
   "id": "5ec542e9",
   "metadata": {},
   "outputs": [],
   "source": [
    "from nrclex import NRCLex\n",
    "import pandas as pd\n",
    "import nltk\n",
    "from nltk.corpus import stopwords\n",
    "import matplotlib.pyplot as plt\n",
    "import seaborn as sns"
   ]
  },
  {
   "cell_type": "code",
   "execution_count": 7,
   "id": "3f7f7d69",
   "metadata": {},
   "outputs": [],
   "source": [
    "import nltk\n",
    "nltk.data.path.append(r\"C:\\Users\\Lokitha\\AppData\\Roaming\\nltk_data\")"
   ]
  },
  {
   "cell_type": "code",
   "execution_count": 8,
   "id": "679fbd74",
   "metadata": {},
   "outputs": [
    {
     "name": "stderr",
     "output_type": "stream",
     "text": [
      "[nltk_data] Downloading package punkt_tab to\n",
      "[nltk_data]     C:\\Users\\Lokitha\\AppData\\Roaming\\nltk_data...\n",
      "[nltk_data]   Package punkt_tab is already up-to-date!\n",
      "[nltk_data] Downloading package stopwords to\n",
      "[nltk_data]     C:\\Users\\Lokitha\\AppData\\Roaming\\nltk_data...\n",
      "[nltk_data]   Package stopwords is already up-to-date!\n"
     ]
    },
    {
     "data": {
      "text/plain": [
       "True"
      ]
     },
     "execution_count": 8,
     "metadata": {},
     "output_type": "execute_result"
    }
   ],
   "source": [
    "# Download necessary NLTK resources (if not already downloaded)\n",
    "nltk.download('punkt_tab')\n",
    "nltk.download('stopwords')"
   ]
  },
  {
   "cell_type": "code",
   "execution_count": 9,
   "id": "35a64cd4",
   "metadata": {},
   "outputs": [],
   "source": [
    "class SentimentRatioAnalyzer:\n",
    "    def __init__(self):\n",
    "        self.stop_words = set(stopwords.words('english'))\n",
    "\n",
    "    def preprocess_text(self, text, remove_stopwords=True):\n",
    "        words = nltk.word_tokenize(text)\n",
    "        if remove_stopwords:\n",
    "            words = [word for word in words if word.lower() not in self.stop_words]\n",
    "        return ' '.join(words)\n",
    "\n",
    "    def calculate_sentiment_ratio(self, text, remove_stopwords=True):\n",
    "        if remove_stopwords:\n",
    "            text = self.preprocess_text(text)\n",
    "\n",
    "        emotion = NRCLex(text)\n",
    "        scores = emotion.raw_emotion_scores\n",
    "        affect_dict = emotion.affect_dict\n",
    "\n",
    "        total_words = len(nltk.word_tokenize(text))\n",
    "        positive_words = [word for word, emotions in affect_dict.items() if 'positive' in emotions]\n",
    "        negative_words = [word for word, emotions in affect_dict.items() if 'negative' in emotions]\n",
    "\n",
    "        positive_score = len(positive_words)\n",
    "        negative_score = len(negative_words)\n",
    "\n",
    "        return {\n",
    "            'positive_words': positive_words,\n",
    "            'positive_count': positive_score,\n",
    "            'negative_words': negative_words,\n",
    "            'negative_count': negative_score,\n",
    "            'positive_word_ratio': positive_score / total_words if total_words > 0 else 0,\n",
    "            'negative_word_ratio': negative_score / total_words if total_words > 0 else 0\n",
    "        }\n"
   ]
  },
  {
   "cell_type": "code",
   "execution_count": 11,
   "id": "04e7ef85",
   "metadata": {},
   "outputs": [
    {
     "name": "stdout",
     "output_type": "stream",
     "text": [
      "\n",
      "Sentiment Analysis Result:\n",
      "Positive Words Found: journey, kind, unexpected, joy, grateful, opportunity, excited\n",
      "Positive Count: 7\n",
      "Negative Words Found: unexpected, uncomfortable\n",
      "Negative Count: 2\n",
      "Positive Word Ratio: 0.21\n",
      "Negative Word Ratio: 0.06\n"
     ]
    }
   ],
   "source": [
    "# Example usage\n",
    "if __name__ == \"__main__\":\n",
    "    # Initialize analyzer\n",
    "    analyzer = SentimentRatioAnalyzer()\n",
    "    \n",
    "    # Input (can be a sentence or a full paragraph)\n",
    "    user_input = \"The journey was absolutely amazing. The views were breathtaking and the people we met were incredibly kind and welcoming. Although we faced some unexpected delays and a few uncomfortable situations, the overall experience was truly unforgettable and filled with joy. I feel grateful for the opportunity and excited to explore more in the future.\"\n",
    "\n",
    "    result = analyzer.calculate_sentiment_ratio(user_input)\n",
    "\n",
    "    print(\"\\nSentiment Analysis Result:\")\n",
    "    print(f\"Positive Words Found: {', '.join(result['positive_words']) or 'None'}\")\n",
    "    print(f\"Positive Count: {result['positive_count']}\")\n",
    "    print(f\"Negative Words Found: {', '.join(result['negative_words']) or 'None'}\")\n",
    "    print(f\"Negative Count: {result['negative_count']}\")\n",
    "    print(f\"Positive Word Ratio: {result['positive_word_ratio']:.2f}\")\n",
    "    print(f\"Negative Word Ratio: {result['negative_word_ratio']:.2f}\")"
   ]
  },
  {
   "cell_type": "code",
   "execution_count": null,
   "id": "34aec6fe",
   "metadata": {},
   "outputs": [],
   "source": []
  },
  {
   "cell_type": "code",
   "execution_count": null,
   "id": "46e9701b",
   "metadata": {},
   "outputs": [],
   "source": []
  },
  {
   "cell_type": "code",
   "execution_count": null,
   "id": "fc437962",
   "metadata": {},
   "outputs": [],
   "source": []
  },
  {
   "cell_type": "code",
   "execution_count": null,
   "id": "b193cdbf",
   "metadata": {},
   "outputs": [],
   "source": []
  },
  {
   "cell_type": "code",
   "execution_count": null,
   "id": "031354a1",
   "metadata": {},
   "outputs": [],
   "source": []
  },
  {
   "cell_type": "code",
   "execution_count": null,
   "id": "55a10485",
   "metadata": {},
   "outputs": [],
   "source": []
  },
  {
   "cell_type": "code",
   "execution_count": null,
   "id": "709967c8",
   "metadata": {},
   "outputs": [],
   "source": []
  },
  {
   "cell_type": "code",
   "execution_count": null,
   "id": "9f0817bd",
   "metadata": {},
   "outputs": [],
   "source": []
  },
  {
   "cell_type": "code",
   "execution_count": null,
   "id": "b1a204f4",
   "metadata": {},
   "outputs": [],
   "source": []
  }
 ],
 "metadata": {
  "kernelspec": {
   "display_name": "Python 3",
   "language": "python",
   "name": "python3"
  },
  "language_info": {
   "codemirror_mode": {
    "name": "ipython",
    "version": 3
   },
   "file_extension": ".py",
   "mimetype": "text/x-python",
   "name": "python",
   "nbconvert_exporter": "python",
   "pygments_lexer": "ipython3",
   "version": "3.10.16"
  }
 },
 "nbformat": 4,
 "nbformat_minor": 5
}
